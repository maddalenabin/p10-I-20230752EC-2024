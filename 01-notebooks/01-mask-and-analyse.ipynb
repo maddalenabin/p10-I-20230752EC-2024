{
 "cells": [
  {
   "cell_type": "code",
   "execution_count": 1,
   "id": "3d4eb7d2",
   "metadata": {},
   "outputs": [
    {
     "name": "stderr",
     "output_type": "stream",
     "text": [
      "WARNING:silx.opencl.common:The module pyOpenCL has been imported but can't be used here\n"
     ]
    }
   ],
   "source": [
    "%matplotlib inline\n",
    "%load_ext autoreload\n",
    "%autoreload 2\n",
    "%matplotlib notebook\n",
    "%pylab\n",
    "\n",
    "from Xana import Xana\n",
    "import numpy as np\n",
    "import os\n",
    "from matplotlib import pyplot as plt\n",
    "from matplotlib.colors import LogNorm\n",
    "import seaborn as sns\n",
    "# import h5py\n",
    "# import pandas as pd"
   ]
  },
  {
   "cell_type": "markdown",
   "id": "770d70b9",
   "metadata": {},
   "source": [
    "# Functions"
   ]
  },
  {
   "cell_type": "code",
   "execution_count": null,
   "id": "d12d3df3",
   "metadata": {},
   "outputs": [],
   "source": [
    "def mask_streaks(nbins=10, thres=2., qvalue=0.03, phiwidth=2., show=True, save=False):\n",
    "    \"\"\"Calculate a new mask that masks streaks.\n",
    "    \n",
    "    Args:\n",
    "        nbins (int): the number of time bins. Instead of averaging all images, the function is \n",
    "            looping ofer nbin time bins.\n",
    "        thres: (float): the threshold to identify streaks.\n",
    "        phiwidth (float): the angular width of a masked streak.\n",
    "        show (bool): if a plot should be created showing the results.\n",
    "        \n",
    "    Returns:\n",
    "        newmask (np.ndarray): the new mask.\n",
    "        \n",
    "    \"\"\"\n",
    "    newmask = d.setup.mask.copy()\n",
    "    \n",
    "    nframes = d.meta.loc[database_id, 'nframes']\n",
    "    stepsize = nframes // nbins\n",
    "    \n",
    "    phimap = d.setup.ai.chiArray()*180/np.pi\n",
    "    \n",
    "    for first in range(0, nframes-stepsize, stepsize):\n",
    "        avr = d.get_series(database_id, first=first, last=first+stepsize, verbose=False)\n",
    "        avr = avr.mean(0)\n",
    "        I, q, p = d.setup.ai.integrate2d(avr, 200, mask=~newmask, method=\"cython\", )\n",
    "        qbin = np.argmin(np.abs(q-qvalue))\n",
    "\n",
    "        phiinds = I[:,qbin] > thres\n",
    "        for phi in p[phiinds]:\n",
    "            ind = (phimap < (phi+phiwidth/2)) & (phimap > (phi-phiwidth/2))\n",
    "            newmask[ind] = 0\n",
    "            \n",
    "        if show:\n",
    "            I, q, p = d.setup.ai.integrate2d(avr, 200, mask=~newmask, method=\"cython\", dummy=np.nan)\n",
    "            if first == 0:  \n",
    "                fig, axs = plt.subplots(3, 1, figsize=(8,8), constrained_layout=True)\n",
    "                \n",
    "                a = axs.flat[1]\n",
    "                my_cmap = plt.get_cmap('inferno')\n",
    "                pc = a.imshow(I.T, norm=LogNorm(), extent=[p[-1], p[0], q[0], q[-1]], origin='lower', aspect=\"auto\")\n",
    "                a.set_xlabel('phi')\n",
    "                a.set_ylabel('q (nm-1)')\n",
    "                \n",
    "                a = axs.flat[0]\n",
    "                avr[newmask==0] = np.nan\n",
    "                im = a.imshow(avr, norm=LogNorm())\n",
    "                \n",
    "                a = axs.flat[2]\n",
    "                ln, = a.plot(I[:,qbin], 'o', ms=2)\n",
    "                a.hlines(thres, 0, 360, ls='--', color='k')\n",
    "                a.set_xlabel('phi')\n",
    "                a.set_ylabel(f'intensity at q={q[qbin]:.2}nm-1')\n",
    "                fig.canvas.draw()\n",
    "                time.sleep(5)\n",
    "            else:\n",
    "                pc.set_data(I.T)\n",
    "                \n",
    "                avr[newmask==0] = np.nan\n",
    "                im.set_data(avr) \n",
    "                \n",
    "                ln.set_ydata(I[:,qbin])\n",
    "                axs.flat[2].autoscale()\n",
    "\n",
    "            fig.canvas.draw()\n",
    "            \n",
    "    if not os.path.isdir('../03-masks/'):\n",
    "        os.mkdir('03-masks')\n",
    "    if save:\n",
    "        filename = f'../03-masks/{sample}_{run_series:05d}_{database_id:02d}.npy'\n",
    "        np.save(filename, newmask)\n",
    "        print(f\"New mask saved as: {filename}\")\n",
    "\n",
    "    return newmask"
   ]
  },
  {
   "cell_type": "markdown",
   "id": "4ae32045",
   "metadata": {},
   "source": [
    "# Load data and initialize Xana"
   ]
  },
  {
   "cell_type": "code",
   "execution_count": 2,
   "id": "aa98c694",
   "metadata": {},
   "outputs": [],
   "source": [
    "sample = 'HydLys_0p25_2' # runs 168 \n",
    "run_series = 8\n",
    "maskfile = '../03-masks/mask-eiger4m-05-grande.npy'\n",
    "setup = '../04-setups/eiger4m-03-powders-phis-03.pkl'"
   ]
  },
  {
   "cell_type": "code",
   "execution_count": null,
   "id": "11bb0136",
   "metadata": {},
   "outputs": [],
   "source": [
    "d = Xana(fmtstr='p10_eiger_h5', # format string that defines how the date are read\n",
    "           sample=sample,  # optional: sample name used in data base\n",
    "           detector='eiger4m', # file that conatains the mask \n",
    "           maskfile=maskfile, # optional, but necessary for analysis\n",
    "           setupfile=setup)"
   ]
  },
  {
   "cell_type": "code",
   "execution_count": null,
   "id": "0af04f23",
   "metadata": {},
   "outputs": [],
   "source": [
    "d.connect(f'{rawdir}{sample}_{run_series:05d}')\n",
    "d.meta"
   ]
  },
  {
   "cell_type": "markdown",
   "id": "d242120b",
   "metadata": {},
   "source": [
    "## Read 2d images and plot"
   ]
  },
  {
   "cell_type": "code",
   "execution_count": null,
   "id": "f9a66a1e",
   "metadata": {},
   "outputs": [],
   "source": [
    "idx = 0\n",
    "database_id = d.meta[d.meta['series']==run_series].index.values[idx]\n",
    "filename = d.meta.loc[database_id, 'master']"
   ]
  },
  {
   "cell_type": "code",
   "execution_count": null,
   "id": "585c1f1e",
   "metadata": {},
   "outputs": [],
   "source": [
    "avr, V = d.get_series(database_id, method='average', verbose=True, last=1000)\n",
    "print(f\"Loaded data with shape {np.shape(avr)}\")"
   ]
  },
  {
   "cell_type": "code",
   "execution_count": null,
   "id": "7b4249bd",
   "metadata": {},
   "outputs": [],
   "source": [
    "figure(figsize=(7,3), constrained_layout=True)\n",
    "imshow(d.setup.mask)"
   ]
  },
  {
   "cell_type": "code",
   "execution_count": null,
   "id": "a9c6d402",
   "metadata": {},
   "outputs": [],
   "source": [
    "avr[d.setup.mask==0] = np.nan\n",
    "\n",
    "figure(figsize=(7,3), constrained_layout=True)\n",
    "imshow(avr, norm=LogNorm())"
   ]
  },
  {
   "cell_type": "markdown",
   "id": "29d98107",
   "metadata": {},
   "source": [
    "## Mask streaks"
   ]
  },
  {
   "cell_type": "markdown",
   "id": "cb4ed575",
   "metadata": {},
   "source": [
    "`d.setup.ai.integrate2d` can be used to calculate the azimhuthal integration. Remember that this step requires that you called `d.setup.make` before (we did this a couple of cells before). Look at the intensity fluctuations in the second plot and define a `threshold`. Values above `threshold` will be masked as streaks. You can also define a `qvalue` that sets the q-section (white dashed line) that should be used for identifying a streak."
   ]
  },
  {
   "cell_type": "code",
   "execution_count": null,
   "id": "6e371099",
   "metadata": {},
   "outputs": [],
   "source": [
    "qvalue = 0.09 # set q value you want to look at\n",
    "\n",
    "I, q, p = d.setup.ai.integrate2d(avr, 200, mask=~d.setup.mask, method=\"cython\", )\n",
    "qbin = np.argmin(np.abs(q-qvalue))\n",
    "\n",
    "fig, (ax1, ax2) = subplots(2, 1, figsize=(7,5), constrained_layout=True, sharex=True)\n",
    "pc = ax1.pcolor(p, q, I.T, norm=LogNorm())#, shading='auto')\n",
    "ax1.set_ylabel('q (nm-1)')\n",
    "ax1.hlines(q[qbin], -175, 175, ls='--', color='w')\n",
    "\n",
    "threshold = np.quantile(I[:,qbin], .99) # here set threshold\n",
    "\n",
    "ax2.plot(p, I[:,qbin], label=f\"q = {q[qbin]:.3f} nm-1\")\n",
    "ax2.set_ylabel('intensity')\n",
    "ax2.set_xlabel('phi')\n",
    "\n",
    "ax2.hlines(threshold, -175, 175, ls='--', color='k')\n",
    "ax2.legend()"
   ]
  },
  {
   "cell_type": "code",
   "execution_count": null,
   "id": "7212f778",
   "metadata": {},
   "outputs": [],
   "source": [
    "newmask = mask_streaks(thres=threshold, qvalue=qvalue, save=True)"
   ]
  },
  {
   "cell_type": "code",
   "execution_count": null,
   "id": "70d05edf",
   "metadata": {},
   "outputs": [],
   "source": [
    "d.setup.mask = newmask # we update the mask"
   ]
  },
  {
   "cell_type": "code",
   "execution_count": null,
   "id": "428f6b14",
   "metadata": {},
   "outputs": [],
   "source": [
    "d.mksavdir('../04-setups/') # folder to save the setup with the new mask\n",
    "d.savesetup(f'setup-{sample}_{run_series:05d}_dbid{database_id:02d}-phis')"
   ]
  },
  {
   "cell_type": "markdown",
   "id": "03ea1a80",
   "metadata": {},
   "source": [
    "# Analyse"
   ]
  },
  {
   "cell_type": "markdown",
   "id": "e4a288db",
   "metadata": {},
   "source": [
    "**Load mask and setup**"
   ]
  },
  {
   "cell_type": "code",
   "execution_count": null,
   "id": "f4b2d8c1",
   "metadata": {},
   "outputs": [],
   "source": [
    "maskfile = f\"../03-masks/{sample}_{run_series:05d}_{database_id:02d}.npy\"\n",
    "setupfile = f\"../04-setups/setup-{sample}_{run_series:05d}_dbid{database_id:02d}-phis.pkl\" # setup\n",
    "\n",
    "d = Xana(fmtstr='p10_eiger_h5', \n",
    "           sample=sample,\n",
    "           detector='eiger4m', \n",
    "           maskfile=maskfile,\n",
    "           setupfile=setupfile)"
   ]
  },
  {
   "cell_type": "code",
   "execution_count": null,
   "id": "a80f3e84",
   "metadata": {},
   "outputs": [],
   "source": [
    "d.connect(f'{rawdir}{sample}_{run_series:05d}')\n",
    "d.mksavdir('../05-analysis-phis/')\n",
    "\n",
    "database_id = d.meta[d.meta['series']==run_series].index.values[idx]\n",
    "display(d.meta.loc[[database_id]])"
   ]
  },
  {
   "cell_type": "markdown",
   "id": "8b704742",
   "metadata": {},
   "source": [
    "**Run analysis**"
   ]
  },
  {
   "cell_type": "code",
   "execution_count": null,
   "id": "d5c8faf9",
   "metadata": {},
   "outputs": [],
   "source": [
    "d.analyze(database_id, 'xpcs', verbose=True, nprocs=4, nread_procs=1, norm='symmetric',\n",
    "          saxs='compute', first=10, #last=5000,\n",
    "          twotime_par=list(np.arange(len(d.setup.qroi)))"
   ]
  },
  {
   "cell_type": "code",
   "execution_count": null,
   "id": "aa996664",
   "metadata": {},
   "outputs": [],
   "source": [
    "d.analyze(database_id, 'saxs', verbose=True, first=10)"
   ]
  }
 ],
 "metadata": {
  "kernelspec": {
   "display_name": "powders38",
   "language": "python",
   "name": "powders38"
  },
  "language_info": {
   "codemirror_mode": {
    "name": "ipython",
    "version": 3
   },
   "file_extension": ".py",
   "mimetype": "text/x-python",
   "name": "python",
   "nbconvert_exporter": "python",
   "pygments_lexer": "ipython3",
   "version": "3.8.6"
  }
 },
 "nbformat": 4,
 "nbformat_minor": 5
}
